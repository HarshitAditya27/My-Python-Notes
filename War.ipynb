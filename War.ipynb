{
 "cells": [
  {
   "cell_type": "code",
   "execution_count": 59,
   "metadata": {},
   "outputs": [],
   "source": [
    "#CARD \n",
    "#SUIT RANK VALUE  \n",
    "import random \n",
    "suits={'Hearts','Diamonds','Spades','Clubs'} \n",
    "ranks=('Two','Three','Four','Five','Six','Seven','Eight','Nine','Ten','Jack','Queen','King','Ace')\n",
    "values={'Two':2,'Three':3,'Four':4,'Five':5,'Six':6,'Seven':7,'Eight':8,'Nine':9,'Ten':10,'Jack':11,'Queen':12,'King':13,'Ace':14}"
   ]
  },
  {
   "cell_type": "code",
   "execution_count": 60,
   "metadata": {},
   "outputs": [],
   "source": [
    "class Card: \n",
    "    def __init__(self,suit,rank): \n",
    "        self.suit=suit \n",
    "        self.rank=rank \n",
    "        self.value=values[rank]\n",
    "    def __str__(self): \n",
    "        return self.rank+ 'of'+self.suit"
   ]
  },
  {
   "cell_type": "code",
   "execution_count": 61,
   "metadata": {},
   "outputs": [],
   "source": [
    "two_hearts=Card('Hearts','Two')"
   ]
  },
  {
   "cell_type": "code",
   "execution_count": 62,
   "metadata": {},
   "outputs": [
    {
     "data": {
      "text/plain": [
       "<__main__.Card at 0x1bd5dbb49d0>"
      ]
     },
     "execution_count": 62,
     "metadata": {},
     "output_type": "execute_result"
    }
   ],
   "source": [
    "two_hearts"
   ]
  },
  {
   "cell_type": "code",
   "execution_count": 63,
   "metadata": {},
   "outputs": [
    {
     "name": "stdout",
     "output_type": "stream",
     "text": [
      "TwoofHearts\n"
     ]
    }
   ],
   "source": [
    "print(two_hearts)"
   ]
  },
  {
   "cell_type": "code",
   "execution_count": 64,
   "metadata": {},
   "outputs": [
    {
     "data": {
      "text/plain": [
       "'Hearts'"
      ]
     },
     "execution_count": 64,
     "metadata": {},
     "output_type": "execute_result"
    }
   ],
   "source": [
    "two_hearts.suit"
   ]
  },
  {
   "cell_type": "code",
   "execution_count": 65,
   "metadata": {},
   "outputs": [
    {
     "data": {
      "text/plain": [
       "'Two'"
      ]
     },
     "execution_count": 65,
     "metadata": {},
     "output_type": "execute_result"
    }
   ],
   "source": [
    "two_hearts.rank"
   ]
  },
  {
   "cell_type": "code",
   "execution_count": 66,
   "metadata": {},
   "outputs": [
    {
     "data": {
      "text/plain": [
       "2"
      ]
     },
     "execution_count": 66,
     "metadata": {},
     "output_type": "execute_result"
    }
   ],
   "source": [
    "values[two_hearts.rank]"
   ]
  },
  {
   "cell_type": "code",
   "execution_count": 67,
   "metadata": {},
   "outputs": [],
   "source": [
    "three_of_clubs=Card('Clubs','Three')"
   ]
  },
  {
   "cell_type": "code",
   "execution_count": 68,
   "metadata": {},
   "outputs": [
    {
     "data": {
      "text/plain": [
       "'Three'"
      ]
     },
     "execution_count": 68,
     "metadata": {},
     "output_type": "execute_result"
    }
   ],
   "source": [
    "three_of_clubs.rank"
   ]
  },
  {
   "cell_type": "code",
   "execution_count": 69,
   "metadata": {},
   "outputs": [
    {
     "data": {
      "text/plain": [
       "3"
      ]
     },
     "execution_count": 69,
     "metadata": {},
     "output_type": "execute_result"
    }
   ],
   "source": [
    "three_of_clubs.value"
   ]
  },
  {
   "cell_type": "code",
   "execution_count": 70,
   "metadata": {},
   "outputs": [
    {
     "data": {
      "text/plain": [
       "False"
      ]
     },
     "execution_count": 70,
     "metadata": {},
     "output_type": "execute_result"
    }
   ],
   "source": [
    "two_hearts==three_of_clubs.value"
   ]
  },
  {
   "cell_type": "code",
   "execution_count": 71,
   "metadata": {},
   "outputs": [],
   "source": [
    "class Deck: \n",
    "    def __init__(self): \n",
    "        self.all_cards=[] \n",
    "        \n",
    "        for suit in suits:\n",
    "            \n",
    "            for rank in ranks: \n",
    "                #Create the card object \n",
    "                created_card=Card(suit,rank)\n",
    "                \n",
    "                self.all_cards.append(created_card) \n",
    "    def shuffle(self):\n",
    "        random.shuffle(self.all_cards) \n",
    "    def deal_one(self): \n",
    "        return self.all_cards.pop()"
   ]
  },
  {
   "cell_type": "code",
   "execution_count": 72,
   "metadata": {},
   "outputs": [],
   "source": [
    "new_deck = Deck()"
   ]
  },
  {
   "cell_type": "code",
   "execution_count": 73,
   "metadata": {},
   "outputs": [
    {
     "data": {
      "text/plain": [
       "[<__main__.Card at 0x1bd5dc979a0>,\n",
       " <__main__.Card at 0x1bd5dc97790>,\n",
       " <__main__.Card at 0x1bd5dc97880>,\n",
       " <__main__.Card at 0x1bd5dc97d90>,\n",
       " <__main__.Card at 0x1bd5dc97df0>,\n",
       " <__main__.Card at 0x1bd5dc974c0>,\n",
       " <__main__.Card at 0x1bd5dc97820>,\n",
       " <__main__.Card at 0x1bd5dbb4970>,\n",
       " <__main__.Card at 0x1bd5dbb4d60>,\n",
       " <__main__.Card at 0x1bd5dbb4f10>,\n",
       " <__main__.Card at 0x1bd5dca69d0>,\n",
       " <__main__.Card at 0x1bd5dca6970>,\n",
       " <__main__.Card at 0x1bd5dca6910>,\n",
       " <__main__.Card at 0x1bd5dca6a00>,\n",
       " <__main__.Card at 0x1bd5dca6b20>,\n",
       " <__main__.Card at 0x1bd5dca6bb0>,\n",
       " <__main__.Card at 0x1bd5dca6c10>,\n",
       " <__main__.Card at 0x1bd5dca6c70>,\n",
       " <__main__.Card at 0x1bd5dca6d30>,\n",
       " <__main__.Card at 0x1bd5dca6df0>,\n",
       " <__main__.Card at 0x1bd5dca6e20>,\n",
       " <__main__.Card at 0x1bd5dca6e80>,\n",
       " <__main__.Card at 0x1bd5dca6ee0>,\n",
       " <__main__.Card at 0x1bd5dca6f70>,\n",
       " <__main__.Card at 0x1bd5dca6a30>,\n",
       " <__main__.Card at 0x1bd5dca6cd0>,\n",
       " <__main__.Card at 0x1bd5dca6f10>,\n",
       " <__main__.Card at 0x1bd5dca6eb0>,\n",
       " <__main__.Card at 0x1bd5dca69a0>,\n",
       " <__main__.Card at 0x1bd5dc9f040>,\n",
       " <__main__.Card at 0x1bd5dc9fc40>,\n",
       " <__main__.Card at 0x1bd5dc9fa30>,\n",
       " <__main__.Card at 0x1bd5dc9f610>,\n",
       " <__main__.Card at 0x1bd5dc9fac0>,\n",
       " <__main__.Card at 0x1bd5dc9fe80>,\n",
       " <__main__.Card at 0x1bd5dc9fdf0>,\n",
       " <__main__.Card at 0x1bd5dc9f0a0>,\n",
       " <__main__.Card at 0x1bd5dc9fc70>,\n",
       " <__main__.Card at 0x1bd5dc9f730>,\n",
       " <__main__.Card at 0x1bd5dc9fbe0>,\n",
       " <__main__.Card at 0x1bd5dc9f880>,\n",
       " <__main__.Card at 0x1bd5dc9f970>,\n",
       " <__main__.Card at 0x1bd5dc9f760>,\n",
       " <__main__.Card at 0x1bd5dc9ff10>,\n",
       " <__main__.Card at 0x1bd5dc9f0d0>,\n",
       " <__main__.Card at 0x1bd5dc9fdc0>,\n",
       " <__main__.Card at 0x1bd5dc9ffd0>,\n",
       " <__main__.Card at 0x1bd5dc9f580>,\n",
       " <__main__.Card at 0x1bd5dc9f3d0>,\n",
       " <__main__.Card at 0x1bd5dc9f280>,\n",
       " <__main__.Card at 0x1bd5dc9ff40>,\n",
       " <__main__.Card at 0x1bd5dc9f850>]"
      ]
     },
     "execution_count": 73,
     "metadata": {},
     "output_type": "execute_result"
    }
   ],
   "source": [
    "new_deck.all_cards"
   ]
  },
  {
   "cell_type": "code",
   "execution_count": 74,
   "metadata": {},
   "outputs": [
    {
     "data": {
      "text/plain": [
       "<__main__.Card at 0x1bd5dc979a0>"
      ]
     },
     "execution_count": 74,
     "metadata": {},
     "output_type": "execute_result"
    }
   ],
   "source": [
    "new_deck.all_cards[0]"
   ]
  },
  {
   "cell_type": "code",
   "execution_count": 75,
   "metadata": {},
   "outputs": [],
   "source": [
    "first_card=new_deck.all_cards[0]"
   ]
  },
  {
   "cell_type": "code",
   "execution_count": 76,
   "metadata": {},
   "outputs": [
    {
     "data": {
      "text/plain": [
       "<__main__.Card at 0x1bd5dc979a0>"
      ]
     },
     "execution_count": 76,
     "metadata": {},
     "output_type": "execute_result"
    }
   ],
   "source": [
    "first_card"
   ]
  },
  {
   "cell_type": "code",
   "execution_count": 77,
   "metadata": {},
   "outputs": [],
   "source": [
    "first_card=new_deck.all_cards[-1]"
   ]
  },
  {
   "cell_type": "code",
   "execution_count": 78,
   "metadata": {},
   "outputs": [
    {
     "data": {
      "text/plain": [
       "<__main__.Card at 0x1bd5dc9f850>"
      ]
     },
     "execution_count": 78,
     "metadata": {},
     "output_type": "execute_result"
    }
   ],
   "source": [
    "first_card"
   ]
  },
  {
   "cell_type": "code",
   "execution_count": 79,
   "metadata": {},
   "outputs": [
    {
     "name": "stdout",
     "output_type": "stream",
     "text": [
      "AceofClubs\n"
     ]
    }
   ],
   "source": [
    "print(first_card)"
   ]
  },
  {
   "cell_type": "code",
   "execution_count": 80,
   "metadata": {},
   "outputs": [
    {
     "name": "stdout",
     "output_type": "stream",
     "text": [
      "TwoofDiamonds\n",
      "ThreeofDiamonds\n",
      "FourofDiamonds\n",
      "FiveofDiamonds\n",
      "SixofDiamonds\n",
      "SevenofDiamonds\n",
      "EightofDiamonds\n",
      "NineofDiamonds\n",
      "TenofDiamonds\n",
      "JackofDiamonds\n",
      "QueenofDiamonds\n",
      "KingofDiamonds\n",
      "AceofDiamonds\n",
      "TwoofHearts\n",
      "ThreeofHearts\n",
      "FourofHearts\n",
      "FiveofHearts\n",
      "SixofHearts\n",
      "SevenofHearts\n",
      "EightofHearts\n",
      "NineofHearts\n",
      "TenofHearts\n",
      "JackofHearts\n",
      "QueenofHearts\n",
      "KingofHearts\n",
      "AceofHearts\n",
      "TwoofSpades\n",
      "ThreeofSpades\n",
      "FourofSpades\n",
      "FiveofSpades\n",
      "SixofSpades\n",
      "SevenofSpades\n",
      "EightofSpades\n",
      "NineofSpades\n",
      "TenofSpades\n",
      "JackofSpades\n",
      "QueenofSpades\n",
      "KingofSpades\n",
      "AceofSpades\n",
      "TwoofClubs\n",
      "ThreeofClubs\n",
      "FourofClubs\n",
      "FiveofClubs\n",
      "SixofClubs\n",
      "SevenofClubs\n",
      "EightofClubs\n",
      "NineofClubs\n",
      "TenofClubs\n",
      "JackofClubs\n",
      "QueenofClubs\n",
      "KingofClubs\n",
      "AceofClubs\n"
     ]
    }
   ],
   "source": [
    "for card_object in new_deck.all_cards: \n",
    "    print(card_object)"
   ]
  },
  {
   "cell_type": "code",
   "execution_count": 81,
   "metadata": {},
   "outputs": [],
   "source": [
    "mylist=[1,2,3,4,5]"
   ]
  },
  {
   "cell_type": "code",
   "execution_count": 82,
   "metadata": {},
   "outputs": [],
   "source": [
    "shufflelist=random.shuffle(mylist)"
   ]
  },
  {
   "cell_type": "code",
   "execution_count": 83,
   "metadata": {},
   "outputs": [],
   "source": [
    "shufflelist"
   ]
  },
  {
   "cell_type": "code",
   "execution_count": 84,
   "metadata": {},
   "outputs": [],
   "source": [
    "new_deck=Deck()"
   ]
  },
  {
   "cell_type": "code",
   "execution_count": 85,
   "metadata": {},
   "outputs": [],
   "source": [
    "bottom_card=new_deck.all_cards[-1]"
   ]
  },
  {
   "cell_type": "code",
   "execution_count": 86,
   "metadata": {},
   "outputs": [
    {
     "name": "stdout",
     "output_type": "stream",
     "text": [
      "AceofClubs\n"
     ]
    }
   ],
   "source": [
    "print(bottom_card)"
   ]
  },
  {
   "cell_type": "code",
   "execution_count": 87,
   "metadata": {},
   "outputs": [
    {
     "name": "stdout",
     "output_type": "stream",
     "text": [
      "AceofClubs\n"
     ]
    }
   ],
   "source": [
    "print(new_deck.all_cards[-1])"
   ]
  },
  {
   "cell_type": "code",
   "execution_count": 88,
   "metadata": {},
   "outputs": [],
   "source": [
    "new_deck=Deck()"
   ]
  },
  {
   "cell_type": "code",
   "execution_count": 89,
   "metadata": {},
   "outputs": [],
   "source": [
    "new_deck.shuffle()"
   ]
  },
  {
   "cell_type": "code",
   "execution_count": 90,
   "metadata": {},
   "outputs": [],
   "source": [
    "mycard=new_deck.deal_one()"
   ]
  },
  {
   "cell_type": "code",
   "execution_count": 91,
   "metadata": {},
   "outputs": [
    {
     "name": "stdout",
     "output_type": "stream",
     "text": [
      "FiveofDiamonds\n"
     ]
    }
   ],
   "source": [
    "print(mycard)"
   ]
  },
  {
   "cell_type": "code",
   "execution_count": 92,
   "metadata": {},
   "outputs": [
    {
     "data": {
      "text/plain": [
       "51"
      ]
     },
     "execution_count": 92,
     "metadata": {},
     "output_type": "execute_result"
    }
   ],
   "source": [
    "len(new_deck.all_cards)"
   ]
  },
  {
   "cell_type": "code",
   "execution_count": 93,
   "metadata": {},
   "outputs": [],
   "source": [
    "class Player: \n",
    "    def __init__(self,name): \n",
    "        self.name=name \n",
    "        self.all_cards=[] \n",
    "    def remove_one(self): \n",
    "        pass \n",
    "    def add_cards(self,new_cards): \n",
    "        if type(new_cards)==type([]): \n",
    "            #List of multiple card objects \n",
    "            self.all_cards.extend(new_cards) \n",
    "        else: \n",
    "            #For a single card object\n",
    "             self.all_cards.append(new_cards)\n",
    "    def __str__(self): \n",
    "        return f'Player {self.name} has {len(self.all_cards)} cards.'"
   ]
  },
  {
   "cell_type": "code",
   "execution_count": 94,
   "metadata": {},
   "outputs": [],
   "source": [
    "new_player=Player('Harshit')"
   ]
  },
  {
   "cell_type": "code",
   "execution_count": 95,
   "metadata": {},
   "outputs": [
    {
     "name": "stdout",
     "output_type": "stream",
     "text": [
      "Player Harshit has 0 cards.\n"
     ]
    }
   ],
   "source": [
    "print(new_player)"
   ]
  },
  {
   "cell_type": "code",
   "execution_count": 96,
   "metadata": {},
   "outputs": [
    {
     "name": "stdout",
     "output_type": "stream",
     "text": [
      "FiveofDiamonds\n"
     ]
    }
   ],
   "source": [
    "print(mycard)"
   ]
  },
  {
   "cell_type": "code",
   "execution_count": 97,
   "metadata": {},
   "outputs": [],
   "source": [
    "new_player.add_cards(mycard)"
   ]
  },
  {
   "cell_type": "code",
   "execution_count": 98,
   "metadata": {},
   "outputs": [
    {
     "name": "stdout",
     "output_type": "stream",
     "text": [
      "Player Harshit has 1 cards.\n"
     ]
    }
   ],
   "source": [
    "print(new_player)"
   ]
  },
  {
   "cell_type": "code",
   "execution_count": 99,
   "metadata": {},
   "outputs": [],
   "source": [
    "new_player.add_cards([mycard,mycard,mycard])"
   ]
  },
  {
   "cell_type": "code",
   "execution_count": 100,
   "metadata": {},
   "outputs": [
    {
     "name": "stdout",
     "output_type": "stream",
     "text": [
      "Player Harshit has 4 cards.\n"
     ]
    }
   ],
   "source": [
    "print(new_player)"
   ]
  },
  {
   "cell_type": "code",
   "execution_count": 101,
   "metadata": {},
   "outputs": [],
   "source": [
    "new_player.remove_one()"
   ]
  },
  {
   "cell_type": "code",
   "execution_count": 102,
   "metadata": {},
   "outputs": [
    {
     "name": "stdout",
     "output_type": "stream",
     "text": [
      "Player Harshit has 4 cards.\n"
     ]
    }
   ],
   "source": [
    "print(new_player)"
   ]
  },
  {
   "cell_type": "code",
   "execution_count": 105,
   "metadata": {},
   "outputs": [],
   "source": [
    "#GAME SETUP \n",
    "player_one=Player('One') \n",
    "player_two=Player('Two') \n",
    "new_deck=Deck() \n",
    "new_deck.shuffle() \n",
    "for x in range(26): \n",
    "    player_one.add_cards(new_deck.deal_one()) \n",
    "    player_two.add_cards(new_deck.deal_one())"
   ]
  },
  {
   "cell_type": "code",
   "execution_count": 107,
   "metadata": {},
   "outputs": [
    {
     "data": {
      "text/plain": [
       "26"
      ]
     },
     "execution_count": 107,
     "metadata": {},
     "output_type": "execute_result"
    }
   ],
   "source": [
    "len(player_one.all_cards)"
   ]
  },
  {
   "cell_type": "code",
   "execution_count": 108,
   "metadata": {},
   "outputs": [
    {
     "name": "stdout",
     "output_type": "stream",
     "text": [
      "ThreeofClubs\n"
     ]
    }
   ],
   "source": [
    "print(player_one.all_cards[0])"
   ]
  },
  {
   "cell_type": "code",
   "execution_count": 109,
   "metadata": {},
   "outputs": [],
   "source": [
    "game_on=True"
   ]
  },
  {
   "cell_type": "code",
   "execution_count": 111,
   "metadata": {},
   "outputs": [
    {
     "name": "stdout",
     "output_type": "stream",
     "text": [
      "Round 1\n"
     ]
    },
    {
     "ename": "AttributeError",
     "evalue": "'NoneType' object has no attribute 'value'",
     "output_type": "error",
     "traceback": [
      "\u001b[1;31m---------------------------------------------------------------------------\u001b[0m",
      "\u001b[1;31mAttributeError\u001b[0m                            Traceback (most recent call last)",
      "\u001b[1;32m<ipython-input-111-5f6c79093a71>\u001b[0m in \u001b[0;36m<module>\u001b[1;34m\u001b[0m\n\u001b[0;32m     19\u001b[0m     \u001b[0mat_war\u001b[0m\u001b[1;33m=\u001b[0m\u001b[1;32mTrue\u001b[0m\u001b[1;33m\u001b[0m\u001b[1;33m\u001b[0m\u001b[0m\n\u001b[0;32m     20\u001b[0m     \u001b[1;32mwhile\u001b[0m \u001b[0mat_war\u001b[0m\u001b[1;33m:\u001b[0m\u001b[1;33m\u001b[0m\u001b[1;33m\u001b[0m\u001b[0m\n\u001b[1;32m---> 21\u001b[1;33m         \u001b[1;32mif\u001b[0m \u001b[0mplayer_one_cards\u001b[0m\u001b[1;33m[\u001b[0m\u001b[1;33m-\u001b[0m\u001b[1;36m1\u001b[0m\u001b[1;33m]\u001b[0m\u001b[1;33m.\u001b[0m\u001b[0mvalue\u001b[0m\u001b[1;33m>\u001b[0m\u001b[0mplayer_two_cards\u001b[0m\u001b[1;33m[\u001b[0m\u001b[1;33m-\u001b[0m\u001b[1;36m1\u001b[0m\u001b[1;33m]\u001b[0m\u001b[1;33m.\u001b[0m\u001b[0mvalue\u001b[0m\u001b[1;33m:\u001b[0m\u001b[1;33m\u001b[0m\u001b[1;33m\u001b[0m\u001b[0m\n\u001b[0m\u001b[0;32m     22\u001b[0m             \u001b[0mplayer_one\u001b[0m\u001b[1;33m.\u001b[0m\u001b[0madd_cards\u001b[0m\u001b[1;33m(\u001b[0m\u001b[0mplayer_one_cards\u001b[0m\u001b[1;33m)\u001b[0m\u001b[1;33m\u001b[0m\u001b[1;33m\u001b[0m\u001b[0m\n\u001b[0;32m     23\u001b[0m             \u001b[0mplayer_one\u001b[0m\u001b[1;33m.\u001b[0m\u001b[0madd_cards\u001b[0m\u001b[1;33m(\u001b[0m\u001b[0mplayer_two_cards\u001b[0m\u001b[1;33m)\u001b[0m\u001b[1;33m\u001b[0m\u001b[1;33m\u001b[0m\u001b[0m\n",
      "\u001b[1;31mAttributeError\u001b[0m: 'NoneType' object has no attribute 'value'"
     ]
    }
   ],
   "source": [
    "# while game_on  \n",
    "round_num=0 \n",
    "while game_on: \n",
    "    round_num+=1 \n",
    "    print(f\"Round {round_num}\") \n",
    "    if len(player_one.all_cards)==0: \n",
    "        print('Player one out of cards! Player two wins!')\n",
    "        game_on=False \n",
    "        break \n",
    "    if len(player_two.all_cards)==0: \n",
    "        print('Player two out of cards! Player one wins') \n",
    "        game_on=False \n",
    "        break \n",
    "#START A NEW ROUND \n",
    "    player_one_cards=[] \n",
    "    player_one_cards.append(player_one.remove_one()) \n",
    "    player_two_cards=[] \n",
    "    player_two_cards.append(player_two.remove_one()) \n",
    "    at_war=True \n",
    "    while at_war: \n",
    "        if player_one_cards[-1].value>player_two_cards[-1].value: \n",
    "            player_one.add_cards(player_one_cards) \n",
    "            player_one.add_cards(player_two_cards) \n",
    "            at_war=False \n",
    "        elif player_one_cards[-1].value<player_two_cards[-1].value: \n",
    "            player_two.add_cards(player_one_cards) \n",
    "            player_two.add_cards(player_two_cards) \n",
    "            at_war=False \n",
    "        else:\n",
    "            print('WAR!') \n",
    "            if len(player_one.all_cards)<3: \n",
    "                print('Player One unable to declare war') \n",
    "                print('Player two wins!') \n",
    "                game_on=False \n",
    "                break \n",
    "            elif len(player_two.all_cards)<3: \n",
    "                print('Player two unable to declare war') \n",
    "                print('Player one wins!') \n",
    "                game_on=False \n",
    "                break  \n",
    "            else: \n",
    "                for num in range(3):\n",
    "                    player_one_cards.append(player_one.remove_one()) \n",
    "                    player_two_cards.append(player_two.remove_one())"
   ]
  },
  {
   "cell_type": "code",
   "execution_count": null,
   "metadata": {},
   "outputs": [],
   "source": []
  }
 ],
 "metadata": {
  "kernelspec": {
   "display_name": "Python 3",
   "language": "python",
   "name": "python3"
  },
  "language_info": {
   "codemirror_mode": {
    "name": "ipython",
    "version": 3
   },
   "file_extension": ".py",
   "mimetype": "text/x-python",
   "name": "python",
   "nbconvert_exporter": "python",
   "pygments_lexer": "ipython3",
   "version": "3.8.3"
  }
 },
 "nbformat": 4,
 "nbformat_minor": 4
}
